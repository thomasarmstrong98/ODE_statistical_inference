{
 "cells": [
  {
   "cell_type": "markdown",
   "metadata": {},
   "source": [
    "## Note:\n",
    "\n",
    "I will be following the same notation and assumptions estiablished in the notebook titled \"logisitic_equation_two_param_grid\".\n",
    "It is repeated below to improve readability. This can be found at https://github.com/thomasarmstrong98/thirdyearproj/blob/master/logistic_two_param_grid.ipynb."
   ]
  },
  {
   "cell_type": "code",
   "execution_count": 1,
   "metadata": {},
   "outputs": [],
   "source": [
    "import numpy as np\n",
    "import matplotlib.pyplot as plt\n",
    "import pandas as pd\n",
    "import random\n",
    "from scipy.stats import norm\n",
    "import statsmodels.stats.api as sms\n",
    "\n",
    "from IPython.display import HTML\n",
    "\n",
    "plt.rc('text', usetex=True)\n",
    "plt.rc('font', family='serif')"
   ]
  },
  {
   "cell_type": "markdown",
   "metadata": {},
   "source": [
    "Suppose we are given a set of data and we know it is created from a logistic style differential equation.\n",
    " We want to estimate the parameter $\\lambda$ and $K$ from the data. First, we know the form of the solution of the differential equation, namely : $$ x(t) = \\frac{Ce^{\\lambda t}}{1 + \\frac{C}{K}e^{\\lambda t}}, \\quad C=\\frac{Kx(0)}{K-x(0)}$$.\n",
    "\n",
    "When the differential equation takes the form of : $$\\frac{dx}{dt} = \\lambda x(1 - \\frac{x}{K}), \\quad \\text{with} \\quad x(0)=x_0 $$. \n"
   ]
  },
  {
   "cell_type": "markdown",
   "metadata": {},
   "source": [
    "## Priors and Model\n",
    "\n",
    "We want to specify pior distributions for the parameters $\\lambda$ and $K$. Here, they are a priori independent.\n",
    "\n",
    "\n",
    "$$ \\lambda \\sim \\text{N}(\\mu_0, \\sigma_0^2) \\quad \\text{and} \\quad K \\sim \\text{Norm} ( \\mu_1, \\sigma_1^2) $$\n",
    "\n",
    "We will generate some random experimental data of m observations, $\\mathbf{y}$ below. We assume that this data is normally distributed around the true solution of the logistic equation with a known variance.\n",
    "\n",
    "$$ y_i = x(t_i) + \\epsilon_i $$ where $\\epsilon_i, ..., \\epsilon_m \\sim  \\text{Norm} ( 0 , \\tau^2) $$"
   ]
  },
  {
   "cell_type": "code",
   "execution_count": 2,
   "metadata": {},
   "outputs": [],
   "source": [
    "random.seed(2018)\n",
    "mu_0 = 1\n",
    "mu_1 = 5.0\n",
    "sig_0 = 0.3\n",
    "sig_1 = 1\n",
    "\n",
    "true_lambda = np.random.normal(mu_0, sig_0)\n",
    "\n",
    "true_K = np.random.normal(mu_1, sig_1)\n",
    "\n",
    "t_values = np.linspace(-5,15,51)\n",
    "\n",
    "def diff_eqn_solution(true_lambda, carry_cap, t):\n",
    "    return np.exp(true_lambda*t)/(1 + (1/true_K)*np.exp(true_lambda*t))"
   ]
  },
  {
   "cell_type": "code",
   "execution_count": 3,
   "metadata": {},
   "outputs": [],
   "source": [
    "# Simulating what the true solution would be then adding the simulated gaussian noise \n",
    "\n",
    "sim_df = pd.DataFrame(index=t_values)\n",
    "sim_df[\"true_values\"] = diff_eqn_solution(true_lambda, true_K, sim_df.index)\n",
    "sim_df[\"sim_values\"] = np.zeros(len(sim_df.index))\n",
    "\n",
    "tau = 0.3\n",
    "\n",
    "for index, row in sim_df.iterrows():\n",
    "    sim_df.loc[index, \"sim_values\"] = sim_df.loc[index, \"true_values\"] + np.random.normal(0, tau)"
   ]
  },
  {
   "cell_type": "code",
   "execution_count": 4,
   "metadata": {},
   "outputs": [
    {
     "data": {
      "text/html": [
       "<div>\n",
       "<style scoped>\n",
       "    .dataframe tbody tr th:only-of-type {\n",
       "        vertical-align: middle;\n",
       "    }\n",
       "\n",
       "    .dataframe tbody tr th {\n",
       "        vertical-align: top;\n",
       "    }\n",
       "\n",
       "    .dataframe thead th {\n",
       "        text-align: right;\n",
       "    }\n",
       "</style>\n",
       "<table border=\"1\" class=\"dataframe\">\n",
       "  <thead>\n",
       "    <tr style=\"text-align: right;\">\n",
       "      <th></th>\n",
       "      <th>true_values</th>\n",
       "      <th>sim_values</th>\n",
       "    </tr>\n",
       "  </thead>\n",
       "  <tbody>\n",
       "    <tr>\n",
       "      <th>-5.0</th>\n",
       "      <td>0.002616</td>\n",
       "      <td>-0.156375</td>\n",
       "    </tr>\n",
       "    <tr>\n",
       "      <th>-4.6</th>\n",
       "      <td>0.004209</td>\n",
       "      <td>0.999882</td>\n",
       "    </tr>\n",
       "    <tr>\n",
       "      <th>-4.2</th>\n",
       "      <td>0.006769</td>\n",
       "      <td>-0.709508</td>\n",
       "    </tr>\n",
       "    <tr>\n",
       "      <th>-3.8</th>\n",
       "      <td>0.010884</td>\n",
       "      <td>0.107934</td>\n",
       "    </tr>\n",
       "    <tr>\n",
       "      <th>-3.4</th>\n",
       "      <td>0.017492</td>\n",
       "      <td>-0.586917</td>\n",
       "    </tr>\n",
       "  </tbody>\n",
       "</table>\n",
       "</div>"
      ],
      "text/plain": [
       "      true_values  sim_values\n",
       "-5.0     0.002616   -0.156375\n",
       "-4.6     0.004209    0.999882\n",
       "-4.2     0.006769   -0.709508\n",
       "-3.8     0.010884    0.107934\n",
       "-3.4     0.017492   -0.586917"
      ]
     },
     "execution_count": 4,
     "metadata": {},
     "output_type": "execute_result"
    }
   ],
   "source": [
    "sim_df.head()"
   ]
  },
  {
   "cell_type": "code",
   "execution_count": 5,
   "metadata": {},
   "outputs": [
    {
     "data": {
      "image/png": "[encoded data removed]",
      "text/plain": [
       "<Figure size 576x432 with 1 Axes>"
      ]
     },
     "metadata": {
      "needs_background": "light"
     },
     "output_type": "display_data"
    }
   ],
   "source": [
    "fig_size = plt.rcParams[\"figure.figsize\"]\n",
    "\n",
    "fig_size[0] = 8\n",
    "fig_size[1] = 6\n",
    "\n",
    "plt.plot(sim_df[\"true_values\"])\n",
    "plt.plot(sim_df[\"sim_values\"])\n",
    "plt.grid(True)\n",
    "plt.xlabel(\"time\")\n",
    "plt.ylabel(\"x value\")\n",
    "plt.legend([\"True Value\", \"Simulated Data\"])\n",
    "plt.show()"
   ]
  },
  {
   "cell_type": "markdown",
   "metadata": {},
   "source": [
    "## Likelihood\n",
    "\n",
    "$$ p(\\lambda, K \\mid \\mathbf{y}) = \\frac{p(\\mathbf{y} \\mid K, \\lambda) p(K, \\lambda)}{p(\\mathbf{y})} =  \\frac{p(\\mathbf{y} \\mid K, \\lambda) p(K) p(\\lambda)}{p(\\mathbf{y})}$$\n",
    "\n",
    "Now, we define the likelihood distribution. $Y_1, Y_2,..., Y_m$ are the random variables of the realisations/experimental data $ \\mathbf{y} = (y_1, y_2,..., y_m)$ so that:\n",
    "\n",
    "$$ Y_i \\mid K, \\lambda \\sim \\text{Norm}( x(t_i), \\tau^2) $$\n",
    "\n",
    "We can therefore simplify our posterior from:\n",
    "\n",
    "$$ p(\\lambda, K \\mid \\mathbf{y}) \\propto p(\\lambda, K)p(\\mathbf{y} \\mid \\lambda, K) $$\n",
    "\n",
    "to:\n",
    "\n",
    "$$ p(\\lambda, K \\mid \\mathbf{y}) \\propto p(\\lambda)p(K)\\prod_{i=1}^m \\text{N}(x(t_i), \\tau^2) $$"
   ]
  },
  {
   "cell_type": "code",
   "execution_count": 6,
   "metadata": {},
   "outputs": [],
   "source": [
    "def likelihood(observation, lambda_value, k_value, t):\n",
    "    return norm.pdf(observation, diff_eqn_solution(lambda_value, k_value, t), tau)\n",
    "\n",
    "like_vec = np.vectorize(likelihood)"
   ]
  },
  {
   "cell_type": "markdown",
   "metadata": {},
   "source": [
    "## Posterior via MCMC (Metropolis Hastings)"
   ]
  },
  {
   "cell_type": "markdown",
   "metadata": {},
   "source": [
    "Below I will briefly describe the MH algorithm that will be implemented. Firstly we wish to sample from the the target distribution $p(\\lambda, K \\mid \\mathbf{y})$ which we do so by following the following algorithm. \n",
    "\n",
    "Suppose we have a state $X^{(t)} = (K^{(t)}, \\lambda^{(t)})$ then we generate a new sample using a proposal distribution $q$.\n",
    "\n",
    "\n",
    "Generate $Y^{(t)} \\sim q(y \\mid X^{(t)})$\n",
    "\n",
    "Move to the new position $X^{(t+1)}$, where:\n",
    "\n",
    "$X^{(t+1)} = Y^{(t)}$ with probability $\\alpha$ \n",
    "\n",
    "\n",
    "$ \\quad \\quad \\quad X^{(t)}$ with probability $ 1-\\alpha $\n",
    "\n",
    "\n",
    "Where \n",
    "\n",
    "$\\alpha = \\text{min}\\left{ 1, \\frac{p((K^{(t+1)}, \\lambda^{(t+1)} \\mid \\mathbf{y})}{p(K^{(t)}, \\lambda^{(t)} \\mid \\mathbf{y})} \\right$"
   ]
  },
  {
   "cell_type": "markdown",
   "metadata": {},
   "source": [
    "In this example we will define our proposal distribution by a Guassian with mean of the current state and a diagonal covariance matrix $\\Sigma^2$, that is:\n",
    "\n",
    "$$ Y^{(t)} \\sim N(X^{(t)}, \\Sigma^2) $$"
   ]
  },
  {
   "cell_type": "code",
   "execution_count": 7,
   "metadata": {},
   "outputs": [],
   "source": [
    "def mh_posterior(likelihood, prior):\n",
    "    return likelihood*prior\n",
    "\n",
    "def mh_prior(lambda_val, k_val):\n",
    "    #Remembering that in this case we assumed that our priors are independent apriori.\n",
    "    return norm.pdf(lambda_val, mu_0, sig_0)*norm.pdf(k_val, mu_1, sig_1)\n",
    "\n",
    "def mh_likelihood(sim_df, lam_val, k_val):\n",
    "    product = 1.0\n",
    "    for i in range(len(sim_df)):\n",
    "        t = round(sim_df.index[i], 1)\n",
    "        product = product * norm.pdf(sim_df[\"sim_values\"].iloc[i], diff_eqn_solution(lam_val, k_val, t), tau)\n",
    "    return product\n",
    "        \n",
    "def q_dist(x_t, C):\n",
    "    #proposal distribution from state x_t with meant x_t and covar matrix C\n",
    "    return np.random.multivariate_normal(x_t, C)"
   ]
  },
  {
   "cell_type": "code",
   "execution_count": 26,
   "metadata": {},
   "outputs": [],
   "source": [
    "#Apriori independent priors\n",
    "\n",
    "C = np.array([[0.1, 0], [0, 0.5]])"
   ]
  },
  {
   "cell_type": "code",
   "execution_count": 27,
   "metadata": {},
   "outputs": [],
   "source": [
    "def mh_algorithm(x_0, no_of_cycles):\n",
    "    #x_0 is the tuple x_0= (lam_0, k_0)\n",
    "    hist_of_moves = pd.DataFrame(columns = [\"lambda\", \"k\"])\n",
    "    hist_of_moves = hist_of_moves.append(pd.DataFrame([[x_0[0],x_0[1]]], columns = [\"lambda\", \"k\"]))\n",
    "    x_t = x_0\n",
    "    for i in range(no_of_cycles):\n",
    "        #generate a new move from x_0\n",
    "        lam_t, k_t = x_t[0], x_t[1]\n",
    "        y_t = q_dist(x_t, C)\n",
    "        p_x = mh_posterior(mh_likelihood(sim_df, lam_t, k_t), mh_prior(lam_t, k_t))\n",
    "        p_y = mh_posterior(mh_likelihood(sim_df, y_t[0], y_t[1]), mh_prior(y_t[0], y_t[1]))\n",
    "        comparison  = p_y/p_x\n",
    "        alpha = min(comparison, 1)\n",
    "        rand_number = np.random.uniform(0,1)\n",
    "        if rand_number > 1-alpha:\n",
    "            x_new = y_t\n",
    "        else:\n",
    "            x_new = x_t\n",
    "        hist_of_moves = hist_of_moves.append(pd.DataFrame([[x_new[0], x_new[1]]], columns = [\"lambda\", \"k\"]))\n",
    "        x_t = x_new\n",
    "    print(\"Completed: \" + str(no_of_cycles) + \" cycles\")\n",
    "    hist_of_moves = hist_of_moves.reset_index()\n",
    "    hist_of_moves = hist_of_moves.drop([\"index\"], axis=1)\n",
    "    return hist_of_moves"
   ]
  },
  {
   "cell_type": "code",
   "execution_count": 28,
   "metadata": {},
   "outputs": [
    {
     "name": "stdout",
     "output_type": "stream",
     "text": [
      "Completed: 100000 cycles\n",
      "MH algorithm took: 1190.981344461441seconds to complete\n"
     ]
    }
   ],
   "source": [
    "import time\n",
    "start = time.time()\n",
    "hist = mh_algorithm((1,4), 100000)\n",
    "end = time.time()\n",
    "print(\"MH algorithm took: \" + str(end - start) + \"seconds to complete\")"
   ]
  },
  {
   "cell_type": "code",
   "execution_count": 29,
   "metadata": {},
   "outputs": [
    {
     "data": {
      "image/png": "[encoded data removed]",
      "text/plain": [
       "<Figure size 1080x360 with 2 Axes>"
      ]
     },
     "metadata": {
      "needs_background": "light"
     },
     "output_type": "display_data"
    }
   ],
   "source": [
    "#Creates two subplots and unpacks the output array immediately\n",
    "f, (ax1, ax2) = plt.subplots(1, 2)\n",
    "f.set_figheight(5)\n",
    "f.set_figwidth(15)\n",
    "ax1.plot(hist[\"lambda\"])\n",
    "ax1.set_title(\"$\\lambda$ history\")\n",
    "ax2.plot(hist[\"k\"])\n",
    "ax2.set_title(\"K history\")\n",
    "plt.show()"
   ]
  },
  {
   "cell_type": "code",
   "execution_count": 30,
   "metadata": {},
   "outputs": [
    {
     "data": {
      "text/plain": [
       "1.237520951163706"
      ]
     },
     "execution_count": 30,
     "metadata": {},
     "output_type": "execute_result"
    }
   ],
   "source": [
    "sum(hist[\"lambda\"][1000:])/90000"
   ]
  },
  {
   "cell_type": "code",
   "execution_count": 31,
   "metadata": {},
   "outputs": [
    {
     "data": {
      "text/plain": [
       "5.487913311365043"
      ]
     },
     "execution_count": 31,
     "metadata": {},
     "output_type": "execute_result"
    }
   ],
   "source": [
    "sum(hist[\"k\"][1000:])/90000"
   ]
  },
  {
   "cell_type": "code",
   "execution_count": 32,
   "metadata": {},
   "outputs": [
    {
     "data": {
      "text/plain": [
       "1.1890935867727384"
      ]
     },
     "execution_count": 32,
     "metadata": {},
     "output_type": "execute_result"
    }
   ],
   "source": [
    "true_lambda"
   ]
  },
  {
   "cell_type": "code",
   "execution_count": 33,
   "metadata": {},
   "outputs": [
    {
     "data": {
      "text/plain": [
       "5.672870045535454"
      ]
     },
     "execution_count": 33,
     "metadata": {},
     "output_type": "execute_result"
    }
   ],
   "source": [
    "true_K"
   ]
  },
  {
   "cell_type": "code",
   "execution_count": null,
   "metadata": {},
   "outputs": [],
   "source": []
  }
 ],
 "metadata": {
  "kernelspec": {
   "display_name": "Python 3",
   "language": "python",
   "name": "python3"
  },
  "language_info": {
   "codemirror_mode": {
    "name": "ipython",
    "version": 3
   },
   "file_extension": ".py",
   "mimetype": "text/x-python",
   "name": "python",
   "nbconvert_exporter": "python",
   "pygments_lexer": "ipython3",
   "version": "3.6.6"
  }
 },
 "nbformat": 4,
 "nbformat_minor": 2
}
