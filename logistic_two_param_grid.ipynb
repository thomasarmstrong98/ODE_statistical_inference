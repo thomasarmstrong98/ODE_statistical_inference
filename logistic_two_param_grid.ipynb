{
 "cells": [
  {
   "cell_type": "code",
   "execution_count": 35,
   "metadata": {},
   "outputs": [],
   "source": [
    "import numpy as np\n",
    "import matplotlib.pyplot as plt\n",
    "import pandas as pd\n",
    "import random\n",
    "from scipy.stats import norm\n",
    "import statsmodels.stats.api as sms\n",
    "\n",
    "from IPython.display import HTML\n",
    "\n",
    "plt.rc('text', usetex=True)\n",
    "plt.rc('font', family='serif')"
   ]
  },
  {
   "cell_type": "markdown",
   "metadata": {},
   "source": [
    "Suppose we are given a set of data and we know it is created from a logistic style differential equation.\n",
    " We want to estimate the parameter $\\lambda$ and $K$ from the data. First, we know the form of the solution of the differential equation, namely : $$ x(t) = \\frac{Ce^{\\lambda t}}{1 + \\frac{C}{K}e^{\\lambda t}}, \\quad C=\\frac{Kx(0)}{K-x(0)}$$.\n",
    "\n",
    "When the differential equation takes the form of : $$\\frac{dx}{dt} = \\lambda x(1 - \\frac{x}{K}), \\quad \\text{with} \\quad x(0)=x_0 $$. \n"
   ]
  },
  {
   "cell_type": "markdown",
   "metadata": {},
   "source": [
    "## Priors and Model\n",
    "\n",
    "We want to specify pior distributions for the parameters $\\lambda$ and $K$. Here, they are a priori independent.\n",
    "\n",
    "\n",
    "$$ \\lambda \\sim \\text{N}(\\mu_0, \\sigma_0^2) \\quad \\text{and} \\quad K \\sim \\text{Norm} ( \\mu_1, \\sigma_1^2) $$\n",
    "\n",
    "We will generate some random experimental data of m observations, $\\mathbf{y}$ below. We assume that this data is normally distributed around the true solution of the logistic equation with a known variance.\n",
    "\n",
    "$$ y_i = x(t_i) + \\epsilon_i $$ where $\\epsilon_i, ..., \\epsilon_m \\sim  \\text{Norm} ( 0 , \\tau^2) $"
   ]
  },
  {
   "cell_type": "code",
   "execution_count": 2,
   "metadata": {},
   "outputs": [],
   "source": [
    "random.seed(2018)\n",
    "mu_0 = 1\n",
    "mu_1 = 5.0\n",
    "sig_0 = 0.3\n",
    "sig_1 = 1\n",
    "\n",
    "true_lambda = np.random.normal(mu_0, sig_0)\n",
    "\n",
    "true_K = np.random.normal(mu_1, sig_1)\n",
    "\n",
    "t_values = np.linspace(-5,15,51)\n",
    "\n",
    "def diff_eqn_solution(true_lambda, carry_cap, t):\n",
    "    return np.exp(true_lambda*t)/(1 + (1/true_K)*np.exp(true_lambda*t))"
   ]
  },
  {
   "cell_type": "code",
   "execution_count": 3,
   "metadata": {},
   "outputs": [],
   "source": [
    "# Simulating what the true solution would be then adding the simulated gaussian noise \n",
    "\n",
    "sim_df = pd.DataFrame(index=t_values)\n",
    "sim_df[\"true_values\"] = diff_eqn_solution(true_lambda, true_K, sim_df.index)\n",
    "sim_df[\"sim_values\"] = np.zeros(len(sim_df.index))\n",
    "\n",
    "tau = 0.3\n",
    "\n",
    "for index, row in sim_df.iterrows():\n",
    "    sim_df.loc[index, \"sim_values\"] = sim_df.loc[index, \"true_values\"] + np.random.normal(0, tau)"
   ]
  },
  {
   "cell_type": "code",
   "execution_count": 4,
   "metadata": {},
   "outputs": [
    {
     "data": {
      "text/html": [
       "<div>\n",
       "<style scoped>\n",
       "    .dataframe tbody tr th:only-of-type {\n",
       "        vertical-align: middle;\n",
       "    }\n",
       "\n",
       "    .dataframe tbody tr th {\n",
       "        vertical-align: top;\n",
       "    }\n",
       "\n",
       "    .dataframe thead th {\n",
       "        text-align: right;\n",
       "    }\n",
       "</style>\n",
       "<table border=\"1\" class=\"dataframe\">\n",
       "  <thead>\n",
       "    <tr style=\"text-align: right;\">\n",
       "      <th></th>\n",
       "      <th>true_values</th>\n",
       "      <th>sim_values</th>\n",
       "    </tr>\n",
       "  </thead>\n",
       "  <tbody>\n",
       "    <tr>\n",
       "      <th>-5.0</th>\n",
       "      <td>0.008968</td>\n",
       "      <td>0.440755</td>\n",
       "    </tr>\n",
       "    <tr>\n",
       "      <th>-4.6</th>\n",
       "      <td>0.013061</td>\n",
       "      <td>0.008604</td>\n",
       "    </tr>\n",
       "    <tr>\n",
       "      <th>-4.2</th>\n",
       "      <td>0.019012</td>\n",
       "      <td>-0.203122</td>\n",
       "    </tr>\n",
       "    <tr>\n",
       "      <th>-3.8</th>\n",
       "      <td>0.027657</td>\n",
       "      <td>0.108215</td>\n",
       "    </tr>\n",
       "    <tr>\n",
       "      <th>-3.4</th>\n",
       "      <td>0.040194</td>\n",
       "      <td>0.227977</td>\n",
       "    </tr>\n",
       "  </tbody>\n",
       "</table>\n",
       "</div>"
      ],
      "text/plain": [
       "      true_values  sim_values\n",
       "-5.0     0.008968    0.440755\n",
       "-4.6     0.013061    0.008604\n",
       "-4.2     0.019012   -0.203122\n",
       "-3.8     0.027657    0.108215\n",
       "-3.4     0.040194    0.227977"
      ]
     },
     "execution_count": 4,
     "metadata": {},
     "output_type": "execute_result"
    }
   ],
   "source": [
    "sim_df.head()"
   ]
  },
  {
   "cell_type": "code",
   "execution_count": 5,
   "metadata": {},
   "outputs": [
    {
     "data": {
      "image/png": "[encoded data removed]",
      "text/plain": [
       "<Figure size 576x432 with 1 Axes>"
      ]
     },
     "metadata": {
      "needs_background": "light"
     },
     "output_type": "display_data"
    }
   ],
   "source": [
    "fig_size = plt.rcParams[\"figure.figsize\"]\n",
    "\n",
    "fig_size[0] = 8\n",
    "fig_size[1] = 6\n",
    "\n",
    "plt.plot(sim_df[\"true_values\"])\n",
    "plt.plot(sim_df[\"sim_values\"])\n",
    "plt.grid(True)\n",
    "plt.xlabel(\"time\")\n",
    "plt.ylabel(\"x value\")\n",
    "plt.legend([\"True Value\", \"Simulated Data\"])\n",
    "plt.show()"
   ]
  },
  {
   "cell_type": "markdown",
   "metadata": {},
   "source": [
    "## Likelihood\n",
    "\n",
    "$$ p(\\lambda, K \\mid \\mathbf{y}) = \\frac{p(\\mathbf{y} \\mid K, \\lambda) p(K, \\lambda)}{p(\\mathbf{y})} =  \\frac{p(\\mathbf{y} \\mid K, \\lambda) p(K) p(\\lambda)}{p(\\mathbf{y})}$$\n",
    "\n",
    "Now, we define the likelihood distribution. $Y_1, Y_2,..., Y_m$ are the random variables of the realisations/experimental data $ \\mathbf{y} = (y_1, y_2,..., y_m)$ so that:\n",
    "\n",
    "$$ Y_i \\mid K, \\lambda \\sim \\text{Norm}( x(t_i), \\tau^2) $$"
   ]
  },
  {
   "cell_type": "code",
   "execution_count": 6,
   "metadata": {},
   "outputs": [],
   "source": [
    "def likelihood(observation, lambda_value, k_value, t):\n",
    "    return norm.pdf(observation, diff_eqn_solution(lambda_value, k_value, t), tau)\n",
    "\n",
    "like_vec = np.vectorize(likelihood)"
   ]
  },
  {
   "cell_type": "markdown",
   "metadata": {},
   "source": [
    "## Utilising the Grid Method"
   ]
  },
  {
   "cell_type": "code",
   "execution_count": 7,
   "metadata": {},
   "outputs": [],
   "source": [
    "lam_grid = np.linspace(0,2, 101)\n",
    "k_grid = np.linspace(1,9, 101)\n",
    "\n",
    "prior_lam = np.array([norm.pdf(lam_grid, mu_0, sig_0)])\n",
    "prior_k = np.array([norm.pdf(k_grid, mu_1, sig_1)])\n",
    "\n",
    "prior = np.outer(prior_lam, prior_k)"
   ]
  },
  {
   "cell_type": "code",
   "execution_count": 8,
   "metadata": {},
   "outputs": [
    {
     "data": {
      "text/plain": [
       "array([[  6.88011821e-07,   9.44453090e-07,   1.28820624e-06, ...,\n",
       "          1.28820624e-06,   9.44453090e-07,   6.88011821e-07],\n",
       "       [  8.57315520e-07,   1.17686102e-06,   1.60520382e-06, ...,\n",
       "          1.60520382e-06,   1.17686102e-06,   8.57315520e-07],\n",
       "       [  1.06354354e-06,   1.45995600e-06,   1.99133705e-06, ...,\n",
       "          1.99133705e-06,   1.45995600e-06,   1.06354354e-06],\n",
       "       ..., \n",
       "       [  1.06354354e-06,   1.45995600e-06,   1.99133705e-06, ...,\n",
       "          1.99133705e-06,   1.45995600e-06,   1.06354354e-06],\n",
       "       [  8.57315520e-07,   1.17686102e-06,   1.60520382e-06, ...,\n",
       "          1.60520382e-06,   1.17686102e-06,   8.57315520e-07],\n",
       "       [  6.88011821e-07,   9.44453090e-07,   1.28820624e-06, ...,\n",
       "          1.28820624e-06,   9.44453090e-07,   6.88011821e-07]])"
      ]
     },
     "execution_count": 8,
     "metadata": {},
     "output_type": "execute_result"
    }
   ],
   "source": [
    "prior"
   ]
  },
  {
   "cell_type": "code",
   "execution_count": 9,
   "metadata": {
    "scrolled": false
   },
   "outputs": [
    {
     "data": {
      "image/png": "[encoded data removed]",
      "text/plain": [
       "<Figure size 576x432 with 1 Axes>"
      ]
     },
     "metadata": {
      "needs_background": "light"
     },
     "output_type": "display_data"
    }
   ],
   "source": [
    "plt.rc('text', usetex=False)\n",
    "plt.rc('font', family='serif')\n",
    "\n",
    "k_axis = []\n",
    "for i in range(11):\n",
    "    k_axis.append(k_grid[i*10])\n",
    "    \n",
    "lam_axis = []\n",
    "for i in range(11):\n",
    "    lam_axis.append(lam_grid[i*10])\n",
    "    \n",
    "fig = plt.figure()\n",
    "ax = fig.add_subplot(111)\n",
    "ax.set_xticklabels(k_axis)\n",
    "plt.xticks(range(len(k_axis)), rotation = 90)\n",
    "ax.set_yticklabels(lam_axis)\n",
    "plt.yticks(range(len(lam_axis)))\n",
    "ax.xaxis.set_major_locator(plt.LinearLocator(11))\n",
    "ax.yaxis.set_major_locator(plt.LinearLocator(11))\n",
    "plt.xlabel(\"K\")\n",
    "plt.ylabel(\"$\\lambda$\")\n",
    "plt.imshow(prior)\n",
    "plt.show()"
   ]
  },
  {
   "cell_type": "markdown",
   "metadata": {},
   "source": [
    "## Posterior"
   ]
  },
  {
   "cell_type": "markdown",
   "metadata": {},
   "source": [
    "Typically we have to integrate the evidence term, $p(\\mathbf{y})$, however since we are using the Grid method, we can discretize the integral and approximate it to a sum. \n",
    "\n",
    "$$ p(\\mathbf{y}) = \\iint p(\\mathbf{y} \\mid K, \\lambda) p(K,\\lambda) \\: d\\lambda dK \\approx \\sum\\sum p(\\mathbf{y} \\mid K, \\lambda) p(K,\\lambda) \\: \\Delta K \\Delta \\lambda$$"
   ]
  },
  {
   "cell_type": "code",
   "execution_count": 30,
   "metadata": {},
   "outputs": [],
   "source": [
    "for y_val in sim_df[\"sim_values\"]:\n",
    "    lik_mat = np.zeros((len(k_grid),len(lam_grid)))\n",
    "    for j in range(len(lam_grid)):\n",
    "        for l in range(len(k_grid)):\n",
    "            lik_mat[j,l] = likelihood(y_val, lam_grid[j], k_grid[l], sim_df.index[sim_df[\"sim_values\"] == y_val].values[0])\n",
    "    lik_mat = np.nan_to_num(lik_mat)\n",
    "    post_mat = (lik_mat * prior) / np.nan_to_num((lik_mat * prior).sum())\n",
    "    post_mat = np.nan_to_num(post_mat)\n",
    "    prior = post_mat"
   ]
  },
  {
   "cell_type": "code",
   "execution_count": 32,
   "metadata": {},
   "outputs": [
    {
     "data": {
      "image/png": "[encoded data removed]",
      "text/plain": [
       "<Figure size 576x432 with 1 Axes>"
      ]
     },
     "metadata": {
      "needs_background": "light"
     },
     "output_type": "display_data"
    }
   ],
   "source": [
    "fig = plt.figure()\n",
    "ax = fig.add_subplot(111)\n",
    "ax.set_xticklabels(lam_axis)\n",
    "plt.xticks(range(len(lam_axis)), rotation = 90)\n",
    "ax.set_yticklabels(k_axis)\n",
    "plt.yticks(range(len(k_axis)))\n",
    "ax.xaxis.set_major_locator(plt.LinearLocator(11))\n",
    "ax.yaxis.set_major_locator(plt.LinearLocator(11))\n",
    "plt.xlabel(\"K\")\n",
    "plt.ylabel(\"$\\lambda$\")\n",
    "plt.imshow(post_mat)\n",
    "plt.show()"
   ]
  },
  {
   "cell_type": "code",
   "execution_count": 33,
   "metadata": {},
   "outputs": [
    {
     "data": {
      "text/plain": [
       "0.9423725136284996"
      ]
     },
     "execution_count": 33,
     "metadata": {},
     "output_type": "execute_result"
    }
   ],
   "source": [
    "true_lambda"
   ]
  },
  {
   "cell_type": "code",
   "execution_count": 34,
   "metadata": {},
   "outputs": [
    {
     "data": {
      "text/plain": [
       "4.048023299751731"
      ]
     },
     "execution_count": 34,
     "metadata": {},
     "output_type": "execute_result"
    }
   ],
   "source": [
    "true_K"
   ]
  },
  {
   "cell_type": "code",
   "execution_count": null,
   "metadata": {},
   "outputs": [],
   "source": []
  }
 ],
 "metadata": {
  "kernelspec": {
   "display_name": "Python 3",
   "language": "python",
   "name": "python3"
  },
  "language_info": {
   "codemirror_mode": {
    "name": "ipython",
    "version": 3
   },
   "file_extension": ".py",
   "mimetype": "text/x-python",
   "name": "python",
   "nbconvert_exporter": "python",
   "pygments_lexer": "ipython3",
   "version": "3.6.6"
  }
 },
 "nbformat": 4,
 "nbformat_minor": 2
}
