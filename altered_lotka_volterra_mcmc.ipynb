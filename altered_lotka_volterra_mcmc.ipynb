{
  "nbformat": 4,
  "nbformat_minor": 0,
  "metadata": {
    "colab": {
      "name": "altered_lotka_volterra_mcmc.ipynb",
      "version": "0.3.2",
      "provenance": []
    },
    "kernelspec": {
      "name": "python3",
      "display_name": "Python 3"
    }
  },
  "cells": [
    {
      "metadata": {
        "id": "JK2jNPdKrAKY",
        "colab_type": "code",
        "colab": {}
      },
      "cell_type": "code",
      "source": [
        "import matplotlib.pyplot as plt\n",
        "import numpy as np\n",
        "import scipy.integrate as integrate\n",
        "import pandas as pd\n",
        "import scipy.stats"
      ],
      "execution_count": 0,
      "outputs": []
    },
    {
      "metadata": {
        "id": "7wWtj-UnrB5e",
        "colab_type": "text"
      },
      "cell_type": "markdown",
      "source": [
        "# Parameter Estimation for an altered Lotka-Volterra Equations\n",
        "\n",
        "Following the framework we have preivously developed:\n",
        "\n",
        " - ODE model as described below\n",
        " - Multivariate Normal Noise Model\n",
        " - Normal Priors for our Parameters\n",
        " \n",
        "### ODE Model\n",
        " $$\n",
        "\\begin{aligned}\n",
        "  \\dot x&=-(-0.15\\,(a -0.5)^2 + 2)x + xy \\\\\n",
        "  \\dot y&=y - xy \\\\\n",
        "\\end{aligned}\n",
        " $$\n",
        " Has a solution $\\boldsymbol{x}(t) = (V(t), R(t))$ at time $t$.\n",
        "\n",
        "### Noise Model\n",
        "We will simplify our noise model so that there is independence between the parameters we are trying to infer from. This is done by having a diagonal matrix in our mutlivariate normal distribution, as shown below.\n",
        "\n",
        "If $\\boldsymbol{y_i}$ is an observation of both spacial variabels our system at time $t_i$, then we our noise model is:\n",
        "\n",
        "$$ \\boldsymbol{y_i} \\mid \\boldsymbol{\\theta} \\sim N( \\boldsymbol{x}(t_i , \\boldsymbol{\\theta}), \\Sigma), \\qquad \n",
        "\\Sigma = \\begin{bmatrix}\n",
        "\\sigma_1^2 & 0 \\\\\n",
        "0 & \\sigma_2^2 \n",
        "\\end{bmatrix}  $$\n",
        "\n",
        "### Prior for Parameters\n",
        "\n",
        "We will be performing inference on $\\boldsymbol{\\theta} = a$. As above, we simply the prior so that the parameters are independent apriori (and therefore aposteriori).\n",
        "\n",
        "$$ \\boldsymbol{\\theta}\\sim N( \\boldsymbol{\\mu}, \\Delta), \\qquad \n",
        "\\Delta = 0.1 $$\n",
        "\n",
        "\n",
        "### Inference \n",
        "Since we will be using the Metropolis Hastings (MH) algorithm to sample from the posterior, we do not need to calculate the evidence term in Bayes Formula. Our posterior is therefore:\n",
        "\n",
        "$$ p(\\boldsymbol{\\theta} \\mid \\boldsymbol{y}) \\propto p(\\boldsymbol{\\theta}) \\: \\prod_{i = 1}^{m} p(\\boldsymbol{y}_i \\mid \\boldsymbol{\\theta}) $$\n",
        "\n",
        "For numerical stability, we will be using the log likelihood.\n",
        "\n",
        "### Construction of Parameters in ODE model.\n",
        "\n",
        "For this example, I would like to explore how the MH algorithm fares with mutli-modal distributions. To try and create a mutli-modal posterior, I have altered the Lotka-Volterra to depend on a funciton of a parameter, that is:\n",
        "\n",
        "$$ \\dot x = -g(a)\\,x + xy ,\\quad \\text{where} \\quad g(a)  =-0.15\\,(a -0.5)^2 + 2 $$\n",
        "\n",
        "This is so that we have a two values of $a$ which could give rise to the data due the symmetry of $g(a)$ around $a=\\frac{1}{2}$. I believe this should give to a bi-modal likelihood distribution."
      ]
    },
    {
      "metadata": {
        "id": "LjwRszySrIkF",
        "colab_type": "code",
        "colab": {}
      },
      "cell_type": "code",
      "source": [
        "def dX_dt(X, t, a):\n",
        "    Xdot = np.empty((2,))\n",
        "    Xdot[0] = -(-0.15*(a-0.5)**2 +2)*X[0] + X[0]*X[1]\n",
        "    Xdot[1] = X[1] - X[0]*X[1]\n",
        "    return Xdot"
      ],
      "execution_count": 0,
      "outputs": []
    },
    {
      "metadata": {
        "id": "Bg9_kSKVEWta",
        "colab_type": "text"
      },
      "cell_type": "markdown",
      "source": [
        "I have constructed the $g(a)$ function in our ODE system so that we will obtain a bi-modal posterior distribution. There are two ways in which we can introduce multimodality into our posterior, through the prior distribution or through the likelihood. I have chosen to work with introducing it through the likelihood function. \n",
        "\n",
        "To create this bi-modality, I have created the parameter function $g(a)$ so that we have $g(a_1) = g(a_2) $ where $a_1 \\neq a_2$ and $a_1$ and $a_2$ are sufficently far apart that we create bi-modality (this distance depends on the varance of the noise model). With this set up, both $a_1$ and $a_2$ will produce the same numerical solution when we integrate.\n",
        "\n",
        "As a result, $p(\\boldsymbol{y} \\mid a_1) = p(\\boldsymbol{y} \\mid a_2)$"
      ]
    },
    {
      "metadata": {
        "id": "mEKDG6sjI_1d",
        "colab_type": "text"
      },
      "cell_type": "markdown",
      "source": [
        "### Plotting g(a)"
      ]
    },
    {
      "metadata": {
        "id": "yPVL9D0QJCXH",
        "colab_type": "code",
        "colab": {
          "base_uri": "https://localhost:8080/",
          "height": 347
        },
        "outputId": "38cc76fa-e059-4c5b-bae5-b0989b594fd3"
      },
      "cell_type": "code",
      "source": [
        "a_grid = np.linspace(-5,5, 101)\n",
        "g_a =-0.15*(a_grid-0.5)**2 +2\n",
        "plt.plot(a_grid, g_a)\n",
        "plt.axvline(x = -2, color = 'r')\n",
        "plt.axvline(x = 3, color = 'r')\n",
        "plt.axhline(y = 1, color = 'g', linestyle = '--')\n",
        "plt.show()"
      ],
      "execution_count": 64,
      "outputs": [
        {
          "output_type": "display_data",
          "data": {
            "image/png": "[encoded data removed]",
            "text/plain": [
              "<Figure size 576x396 with 1 Axes>"
            ]
          },
          "metadata": {
            "tags": []
          }
        }
      ]
    },
    {
      "metadata": {
        "id": "K07Lyg9RsJxv",
        "colab_type": "code",
        "colab": {}
      },
      "cell_type": "code",
      "source": [
        "a = -2\n",
        "initial_X = [2, 1]\n",
        "\n",
        "t = np.linspace(0, 50, 101)\n",
        "output = integrate.odeint(dX_dt, initial_X, t, args = (a,))"
      ],
      "execution_count": 0,
      "outputs": []
    },
    {
      "metadata": {
        "id": "f1rOpPwesS0R",
        "colab_type": "code",
        "colab": {}
      },
      "cell_type": "code",
      "source": [
        "sol_df = pd.DataFrame(index = t)\n",
        "sol_df['x'] = output[:, 0]\n",
        "sol_df['y'] = output[:, 1]"
      ],
      "execution_count": 0,
      "outputs": []
    },
    {
      "metadata": {
        "id": "Kjnkk1DLsbq1",
        "colab_type": "code",
        "colab": {}
      },
      "cell_type": "code",
      "source": [
        "#Creating the simulated dataframe\n",
        "\n",
        "sim_df = pd.DataFrame(index = t)\n",
        "\n",
        "mean, scale = 0, 0.1\n",
        "\n",
        "x_experiment  = [sol + np.random.normal(0, scale) for sol in sol_df[\"x\"]]\n",
        "y_experiment  = [sol + np.random.normal(0, scale) for sol in sol_df[\"y\"]]\n",
        "\n",
        "sim_df['x'] = x_experiment\n",
        "sim_df['y'] = y_experiment"
      ],
      "execution_count": 0,
      "outputs": []
    },
    {
      "metadata": {
        "id": "7UNAJeP8siXQ",
        "colab_type": "code",
        "colab": {
          "base_uri": "https://localhost:8080/",
          "height": 226
        },
        "outputId": "2bf275b9-6cd2-48a5-a3e5-14726f8ba58d"
      },
      "cell_type": "code",
      "source": [
        "f = plt.figure(figsize=(10,3))\n",
        "\n",
        "ax = f.add_subplot(121)\n",
        "ax2 = f.add_subplot(122)\n",
        "\n",
        "ax.plot(sim_df[\"x\"], linewidth = 0.5)\n",
        "ax.set_title(\"x\")\n",
        "ax2.plot(sim_df[\"y\"], color = 'g', linewidth = 0.5)\n",
        "ax2.set_title(\"y\")\n",
        "\n",
        "plt.show()"
      ],
      "execution_count": 11,
      "outputs": [
        {
          "output_type": "display_data",
          "data": {
            "image/png": "[encoded data removed]",
            "text/plain": [
              "<Figure size 720x216 with 2 Axes>"
            ]
          },
          "metadata": {
            "tags": []
          }
        }
      ]
    },
    {
      "metadata": {
        "id": "aBK78iTislzk",
        "colab_type": "code",
        "colab": {}
      },
      "cell_type": "code",
      "source": [
        "#Prior Distribution\n",
        "\n",
        "Delta = np.array([[3.0, 0],\n",
        "                  [0, 3.0]])\n",
        "\n",
        "mu = np.array([0])\n",
        "\n",
        "def prior(theta):\n",
        "    return scipy.stats.norm.pdf(theta, mu, 3.0)"
      ],
      "execution_count": 0,
      "outputs": []
    },
    {
      "metadata": {
        "id": "6hTlmkl7ssSv",
        "colab_type": "code",
        "colab": {}
      },
      "cell_type": "code",
      "source": [
        "#Likelihood/Noise Model\n",
        "\n",
        "Sigma = np.array([[0.1, 0],\n",
        "                  [0, 0.1]])\n",
        "\n",
        "def diff_eqn_soln(theta, initial_X, t):\n",
        "    output = integrate.odeint(dX_dt, initial_X, t, args = (theta,))\n",
        "    proposed_df = pd.DataFrame(index = t)\n",
        "    proposed_df['x'] = output[:, 0]\n",
        "    proposed_df['y'] = output[:, 1]\n",
        "    return proposed_df\n",
        "\n",
        "def log_likelihood(theta, sim_df, Sigma, initial_X, t):\n",
        "    likelihood_sum = 0\n",
        "    proposed_df = diff_eqn_soln(theta, initial_X, t)\n",
        "    for index, obs in sim_df.iterrows():\n",
        "        likelihood_sum = likelihood_sum + np.log(scipy.stats.multivariate_normal.pdf(sim_df.loc[index], proposed_df.loc[index], Sigma))\n",
        "    return likelihood_sum\n",
        "\n",
        "def posterior(theta, sim_df, Sigma, initial_X, t):\n",
        "    return np.exp(log_likelihood(theta, sim_df, Sigma, initial_X, t))*prior(theta)\n",
        "\n",
        "#Proposal Distribution\n",
        "\n",
        "sd = 0.7\n",
        "def q(theta):\n",
        "    return scipy.stats.norm.rvs(theta, sd)"
      ],
      "execution_count": 0,
      "outputs": []
    },
    {
      "metadata": {
        "id": "tYQ_vahlvU1Y",
        "colab_type": "code",
        "colab": {}
      },
      "cell_type": "code",
      "source": [
        "#MH Algorithm\n",
        "\n",
        "def MH_algorithm(X_0, no_of_cycles, sim_df):\n",
        "    import time\n",
        "    \n",
        "    trace_hist = pd.DataFrame(columns = ['a'])\n",
        "    trace_hist = trace_hist.append(pd.DataFrame([X_0], columns = ['a']))\n",
        "    time_hist = []\n",
        "    X_t = X_0\n",
        "    for i in range(no_of_cycles):\n",
        "        start = time.time()\n",
        "        #Generate a new move using our proposal distribution\n",
        "        Y_t = q(X_t)\n",
        "        #Calculate the posterior for both X_t and Y_t then compare\n",
        "        p_X = posterior(X_t, sim_df, Sigma, initial_X, t)\n",
        "        p_Y = posterior(Y_t, sim_df, Sigma, initial_X, t)\n",
        "        #Compare and accept move based on M-H acceptance rule\n",
        "        comparison = p_Y/p_X\n",
        "        alpha = min(comparison, 1.0)\n",
        "        #Generate a random number between 0 and 1 to determine if we accept or reject the move\n",
        "        rand_num = np.random.uniform(0,1)\n",
        "        if alpha > rand_num:\n",
        "            X_new = Y_t\n",
        "        else:\n",
        "            X_new = X_t\n",
        "        trace_hist = trace_hist.append(pd.DataFrame([X_new], columns = ['a']))\n",
        "        X_t = X_new\n",
        "        end = time.time()\n",
        "        time_hist.append(end - start)\n",
        "    print(\"Completed: \" + str(no_of_cycles) + \" cycles\")\n",
        "    trace_hist = trace_hist.reset_index()\n",
        "    trace_hist = trace_hist.drop([\"index\"], axis=1)\n",
        "    return trace_hist , time_hist\n",
        "    "
      ],
      "execution_count": 0,
      "outputs": []
    },
    {
      "metadata": {
        "id": "vC8GlW_q0Ybs",
        "colab_type": "code",
        "colab": {
          "base_uri": "https://localhost:8080/",
          "height": 119
        },
        "outputId": "8f529619-ce4f-43a3-c5b5-5f438ccd08b2"
      },
      "cell_type": "code",
      "source": [
        "import time\n",
        "start = time.time()\n",
        "trace, time_hist = MH_algorithm(0, 10000, sim_df)\n",
        "end = time.time()\n",
        "print(\"MH algorithm took: \" + str(end - start) + \"seconds to complete\")"
      ],
      "execution_count": 44,
      "outputs": [
        {
          "output_type": "stream",
          "text": [
            "/usr/local/lib/python3.6/dist-packages/ipykernel_launcher.py:17: RuntimeWarning: invalid value encountered in true_divide\n",
            "/usr/local/lib/python3.6/dist-packages/ipykernel_launcher.py:17: RuntimeWarning: divide by zero encountered in true_divide\n",
            "/usr/local/lib/python3.6/dist-packages/ipykernel_launcher.py:16: RuntimeWarning: divide by zero encountered in log\n",
            "  app.launch_new_instance()\n"
          ],
          "name": "stderr"
        },
        {
          "output_type": "stream",
          "text": [
            "Completed: 10000 cycles\n",
            "MH algorithm took: 1079.2014701366425seconds to complete\n"
          ],
          "name": "stdout"
        }
      ]
    },
    {
      "metadata": {
        "id": "DRQdedojHC7Y",
        "colab_type": "text"
      },
      "cell_type": "markdown",
      "source": [
        "### Traceplot"
      ]
    },
    {
      "metadata": {
        "id": "mVJ1sm6w0te1",
        "colab_type": "code",
        "colab": {
          "base_uri": "https://localhost:8080/",
          "height": 364
        },
        "outputId": "84cd4d08-1f42-4fd4-8349-a11667aadb28"
      },
      "cell_type": "code",
      "source": [
        "plt.plot(trace[\"a\"])"
      ],
      "execution_count": 45,
      "outputs": [
        {
          "output_type": "execute_result",
          "data": {
            "text/plain": [
              "[<matplotlib.lines.Line2D at 0x7fc17a1a5278>]"
            ]
          },
          "metadata": {
            "tags": []
          },
          "execution_count": 45
        },
        {
          "output_type": "display_data",
          "data": {
            "image/png": "[encoded data removed]",
            "text/plain": [
              "<Figure size 576x396 with 1 Axes>"
            ]
          },
          "metadata": {
            "tags": []
          }
        }
      ]
    },
    {
      "metadata": {
        "id": "gdq9u_4WHFhi",
        "colab_type": "text"
      },
      "cell_type": "markdown",
      "source": [
        "### Grid Approximation"
      ]
    },
    {
      "metadata": {
        "id": "yOd7LUC36Bg3",
        "colab_type": "code",
        "colab": {
          "base_uri": "https://localhost:8080/",
          "height": 51
        },
        "outputId": "cc280b08-5d4a-4793-ba4c-49e1d865949c"
      },
      "cell_type": "code",
      "source": [
        "a_grid = np.linspace(-5,5, 101)\n",
        "a_post = pd.DataFrame(index = a_grid)\n",
        "\n",
        "a_post_vals = []\n",
        "for a in a_grid:\n",
        "    a_post_vals.append(posterior(a, sim_df, Sigma, initial_X, t))\n",
        "    \n",
        "a_post['post'] = a_post_vals"
      ],
      "execution_count": 47,
      "outputs": [
        {
          "output_type": "stream",
          "text": [
            "/usr/local/lib/python3.6/dist-packages/ipykernel_launcher.py:16: RuntimeWarning: divide by zero encountered in log\n",
            "  app.launch_new_instance()\n"
          ],
          "name": "stderr"
        }
      ]
    },
    {
      "metadata": {
        "id": "vf-Eyjth7JEp",
        "colab_type": "code",
        "colab": {
          "base_uri": "https://localhost:8080/",
          "height": 375
        },
        "outputId": "a914bc29-e254-4bd8-f3c2-2b0689ec9ec7"
      },
      "cell_type": "code",
      "source": [
        "plt.plot(a_post)"
      ],
      "execution_count": 48,
      "outputs": [
        {
          "output_type": "execute_result",
          "data": {
            "text/plain": [
              "[<matplotlib.lines.Line2D at 0x7fc17a190b38>]"
            ]
          },
          "metadata": {
            "tags": []
          },
          "execution_count": 48
        },
        {
          "output_type": "display_data",
          "data": {
            "image/png": "[encoded data removed]",
            "text/plain": [
              "<Figure size 576x396 with 1 Axes>"
            ]
          },
          "metadata": {
            "tags": []
          }
        }
      ]
    },
    {
      "metadata": {
        "id": "hmqbT2aMCmjI",
        "colab_type": "text"
      },
      "cell_type": "markdown",
      "source": [
        "We see that in the grid approximaiton, we obtain a bi-modal posterior distribution with two narrow peaks. Because these peaks are so narrow, our MH algorithm did not explore the second peak at $a=3$ and because of the constan variance in our proposal distribution, we cannot be sure that the chain actually found the local maximum at $a = -2$.\n",
        "\n",
        "I believe the narrowness of the peaks has occured due to the fact that $g(a)$ is the frequency of the cycles our system experiences. This could mean that small deviations from the true value of $a$ propergate as time increases, causing the likelihood to go to $0$. This will be further explored."
      ]
    },
    {
      "metadata": {
        "id": "xuHpTumYIWSU",
        "colab_type": "code",
        "colab": {}
      },
      "cell_type": "code",
      "source": [
        ""
      ],
      "execution_count": 0,
      "outputs": []
    }
  ]
}